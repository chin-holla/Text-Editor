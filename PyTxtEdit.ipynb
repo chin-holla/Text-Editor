{
  "cells": [
    {
      "cell_type": "markdown",
      "metadata": {
        "id": "view-in-github",
        "colab_type": "text"
      },
      "source": [
        "<a href=\"https://colab.research.google.com/github/chin-holla/Text-Editor/blob/main/PyTxtEdit.ipynb\" target=\"_parent\"><img src=\"https://colab.research.google.com/assets/colab-badge.svg\" alt=\"Open In Colab\"/></a>"
      ]
    },
    {
      "cell_type": "code",
      "execution_count": 1,
      "metadata": {
        "id": "0sbRWgst9-A6"
      },
      "outputs": [],
      "source": [
        "line_limit = 105\n",
        "\n",
        "# Function to rewrite the input with 105 characters per line\n",
        "def text_to_lines(text):\n",
        "  lines = []\n",
        "  words = text.split()\n",
        "  current_line = \" \"\n",
        "\n",
        "  for word in words:\n",
        "    if len(current_line + word) <= line_limit:\n",
        "      current_line += word + ' '\n",
        "    else:\n",
        "      lines.append(current_line.strip()) # moving word to next line in case the word splits\n",
        "      current_line = word + ' '\n",
        "\n",
        "  lines.append(current_line.strip())\n",
        "  return lines\n",
        "\n"
      ]
    },
    {
      "cell_type": "code",
      "execution_count": null,
      "metadata": {
        "id": "NXv6G1Bb37GU"
      },
      "outputs": [],
      "source": [
        "def text_editor():\n",
        "  content = \" \"\n",
        "\n",
        "  print('---Simple Text Editor---')\n",
        "\n",
        "  input_text = input('Enter your text: ')\n",
        "  lines = text_to_lines(input_text)\n",
        "  for line in lines:\n",
        "    content =\"\\n\".join(lines)\n",
        "    cursor_position = len(content)\n",
        "  print('\\n',content)\n",
        "\n",
        "  option = input('\\nDo you want to move the cursor (y/n)? ')\n",
        "  if option == 'y':\n",
        "    choice = int(input('\\nWould you want to move cursor to the left or right?'))\n",
        "\n",
        "    # move cursor left\n",
        "    if choice == '1':\n",
        "      if cursor_position > 0:\n",
        "          cursor_position -= 1\n",
        "\n",
        "    # move cursor right\n",
        "    elif choice == '2':\n",
        "      if cursor_position < len(content):\n",
        "        cursor_position += 1\n",
        "\n",
        "  elif option == 'n':\n",
        "    exit\n",
        "\n",
        "  ch = input('\\nDo you wish to delete the last charater(y/n): ').lower()\n",
        "  if ch == 'y':\n",
        "    if cursor_position > 0:\n",
        "      content = content[:cursor_position-1] + content[cursor_position:]\n",
        "      cursor_position -= 1\n",
        "    print('\\n',content)\n",
        "\n",
        "  if ch == 'n':\n",
        "    exit(0)\n",
        "\n",
        "\n",
        "text_editor()"
      ]
    },
    {
      "cell_type": "code",
      "source": [],
      "metadata": {
        "id": "Ek0ZEJQV-x0U"
      },
      "execution_count": null,
      "outputs": []
    }
  ],
  "metadata": {
    "colab": {
      "provenance": [],
      "authorship_tag": "ABX9TyMsnLItmMrChywh8qkMXHZS",
      "include_colab_link": true
    },
    "kernelspec": {
      "display_name": "Python 3",
      "name": "python3"
    },
    "language_info": {
      "name": "python"
    }
  },
  "nbformat": 4,
  "nbformat_minor": 0
}